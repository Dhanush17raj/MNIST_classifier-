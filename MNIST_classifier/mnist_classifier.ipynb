{
 "cells": [
  {
   "cell_type": "code",
   "execution_count": 48,
   "id": "31a2d526-f8e5-41bf-961c-b332d08c2603",
   "metadata": {},
   "outputs": [],
   "source": [
    "import tensorflow as tf\n",
    "from tensorflow import keras\n",
    "import numpy as np\n",
    "import matplotlib.pyplot as plt"
   ]
  },
  {
   "cell_type": "code",
   "execution_count": 3,
   "id": "07ea98ef-2787-4f86-80ca-d880f0e64d98",
   "metadata": {},
   "outputs": [],
   "source": [
    "\n",
    "fashion_mnist = keras.datasets.fashion_mnist\n",
    "\n",
    "(train_images, train_labels), (test_images, test_labels) = fashion_mnist.load_data()"
   ]
  },
  {
   "cell_type": "code",
   "execution_count": 4,
   "id": "692153cf-7841-4ecb-9523-48904fd8d713",
   "metadata": {},
   "outputs": [
    {
     "data": {
      "text/plain": [
       "(60000, 28, 28)"
      ]
     },
     "execution_count": 4,
     "metadata": {},
     "output_type": "execute_result"
    }
   ],
   "source": [
    "train_images.shape"
   ]
  },
  {
   "cell_type": "code",
   "execution_count": 5,
   "id": "73b96d13-0b80-4ce0-86f0-3a78d12a6a54",
   "metadata": {},
   "outputs": [
    {
     "data": {
      "text/plain": [
       "numpy.ndarray"
      ]
     },
     "execution_count": 5,
     "metadata": {},
     "output_type": "execute_result"
    }
   ],
   "source": [
    "type(train_images)"
   ]
  },
  {
   "cell_type": "code",
   "execution_count": 6,
   "id": "704d1616-c0ed-485a-bc98-7dd5c4ed5a63",
   "metadata": {},
   "outputs": [
    {
     "data": {
      "text/plain": [
       "array([[212, 209],\n",
       "       [181, 177],\n",
       "       [192, 176],\n",
       "       [188, 188]], dtype=uint8)"
      ]
     },
     "execution_count": 6,
     "metadata": {},
     "output_type": "execute_result"
    }
   ],
   "source": [
    "train_images[0, 20:24, 21: 23]"
   ]
  },
  {
   "cell_type": "code",
   "execution_count": 7,
   "id": "f612aee6-44ee-4189-b5b1-b83e93d1c127",
   "metadata": {},
   "outputs": [
    {
     "data": {
      "text/plain": [
       "60000"
      ]
     },
     "execution_count": 7,
     "metadata": {},
     "output_type": "execute_result"
    }
   ],
   "source": [
    "len(train_labels)"
   ]
  },
  {
   "cell_type": "code",
   "execution_count": 8,
   "id": "affa03fb-27ad-4e7a-9333-473acdd61f6d",
   "metadata": {},
   "outputs": [],
   "source": [
    "class_names = ['T-shirt/top', 'Trouser', 'Pullover', 'Dress', 'Coat',\n",
    "               'Sandal', 'Shirt', 'Sneaker', 'Bag', 'Ankle boot']"
   ]
  },
  {
   "cell_type": "code",
   "execution_count": 9,
   "id": "bb749215-4924-4a5d-b639-2af68dea007e",
   "metadata": {},
   "outputs": [
    {
     "data": {
      "image/png": "[encoded data removed]",
      "text/plain": [
       "<Figure size 640x480 with 2 Axes>"
      ]
     },
     "metadata": {},
     "output_type": "display_data"
    }
   ],
   "source": [
    "plt.figure()\n",
    "plt.imshow(train_images[1509])\n",
    "plt.colorbar()\n",
    "plt.grid(False)\n",
    "plt.show()"
   ]
  },
  {
   "cell_type": "markdown",
   "id": "7460c13d-933f-4eab-b5b8-7c8ea7fd8e31",
   "metadata": {},
   "source": [
    "Data Preprocessing"
   ]
  },
  {
   "cell_type": "code",
   "execution_count": 10,
   "id": "8106cb60-2d7f-440e-82ab-92047ade66af",
   "metadata": {},
   "outputs": [],
   "source": [
    "train_images = train_images/255\n",
    "test_images = test_images/255"
   ]
  },
  {
   "cell_type": "code",
   "execution_count": 49,
   "id": "1f8ab7fd-d0c8-4e40-83d7-2820a59fdc06",
   "metadata": {},
   "outputs": [],
   "source": [
    "model = keras.Sequential([ # Sequential will give the most basic NN\n",
    "            keras.layers.Flatten(input_shape = (28, 28)), # input layer\n",
    "            keras.layers.Dense(128, activation = 'relu'), # hidden layer\n",
    "            keras.layers.Dense(10, activation = 'softmax') # output layer\n",
    "            ]) # in softmax all the values will be b/w 0 and 1 and they add upto 1."
   ]
  },
  {
   "cell_type": "markdown",
   "id": "33712021-e1c3-410a-8527-585fa7b6833b",
   "metadata": {},
   "source": [
    "**OPTIMIZATION**"
   ]
  },
  {
   "cell_type": "code",
   "execution_count": 51,
   "id": "b4507904-a3d7-44d3-b62f-171f3c0abea4",
   "metadata": {},
   "outputs": [],
   "source": [
    "model.compile(optimizer = 'adam',\n",
    "              loss = 'sparse_categorical_crossentropy',\n",
    "              metrics = ['accuracy'])"
   ]
  },
  {
   "cell_type": "code",
   "execution_count": 52,
   "id": "dc75971a-d677-4a4d-8a70-c1608d12ebc6",
   "metadata": {},
   "outputs": [
    {
     "name": "stdout",
     "output_type": "stream",
     "text": [
      "Model: \"sequential\"\n",
      "_________________________________________________________________\n",
      " Layer (type)                Output Shape              Param #   \n",
      "=================================================================\n",
      " flatten_1 (Flatten)         (None, 784)               0         \n",
      "                                                                 \n",
      " dense_1 (Dense)             (None, 128)               100480    \n",
      "                                                                 \n",
      " dense_2 (Dense)             (None, 10)                1290      \n",
      "                                                                 \n",
      "=================================================================\n",
      "Total params: 101,770\n",
      "Trainable params: 101,770\n",
      "Non-trainable params: 0\n",
      "_________________________________________________________________\n"
     ]
    }
   ],
   "source": [
    "model.summary()"
   ]
  },
  {
   "cell_type": "code",
   "execution_count": 53,
   "id": "ce387cd4-2844-4daa-a87a-39a255c26b70",
   "metadata": {},
   "outputs": [
    {
     "name": "stdout",
     "output_type": "stream",
     "text": [
      "Epoch 1/10\n",
      "1875/1875 [==============================] - 3s 1ms/step - loss: 0.5024 - accuracy: 0.8246\n",
      "Epoch 2/10\n",
      "1875/1875 [==============================] - 3s 1ms/step - loss: 0.3795 - accuracy: 0.8640\n",
      "Epoch 3/10\n",
      "1875/1875 [==============================] - 3s 1ms/step - loss: 0.3403 - accuracy: 0.8767\n",
      "Epoch 4/10\n",
      "1875/1875 [==============================] - 3s 1ms/step - loss: 0.3152 - accuracy: 0.8846\n",
      "Epoch 5/10\n",
      "1875/1875 [==============================] - 3s 2ms/step - loss: 0.2958 - accuracy: 0.8915\n",
      "Epoch 6/10\n",
      "1875/1875 [==============================] - 3s 1ms/step - loss: 0.2832 - accuracy: 0.8952\n",
      "Epoch 7/10\n",
      "1875/1875 [==============================] - 3s 1ms/step - loss: 0.2703 - accuracy: 0.9004\n",
      "Epoch 8/10\n",
      "1875/1875 [==============================] - 3s 1ms/step - loss: 0.2597 - accuracy: 0.9041\n",
      "Epoch 9/10\n",
      "1875/1875 [==============================] - 3s 1ms/step - loss: 0.2498 - accuracy: 0.9067\n",
      "Epoch 10/10\n",
      "1875/1875 [==============================] - 3s 1ms/step - loss: 0.2396 - accuracy: 0.9098\n"
     ]
    },
    {
     "data": {
      "text/plain": [
       "<keras.callbacks.History at 0x7f1a082c4df0>"
      ]
     },
     "execution_count": 53,
     "metadata": {},
     "output_type": "execute_result"
    }
   ],
   "source": [
    "model.fit(train_images, train_labels, epochs = 10)"
   ]
  },
  {
   "cell_type": "code",
   "execution_count": 54,
   "id": "7227e4e4-65a1-4278-bbc6-bea93ff76727",
   "metadata": {},
   "outputs": [
    {
     "name": "stdout",
     "output_type": "stream",
     "text": [
      "313/313 [==============================] - 0s 949us/step - loss: 0.3380 - accuracy: 0.8783\n"
     ]
    }
   ],
   "source": [
    "test_loss, test_accu = model.evaluate(test_images, test_labels, verbose = 1)"
   ]
  },
  {
   "cell_type": "code",
   "execution_count": 16,
   "id": "b4974b9b-415a-4b32-a14c-3733192144ed",
   "metadata": {},
   "outputs": [
    {
     "name": "stdout",
     "output_type": "stream",
     "text": [
      "Test Accuracy: 87.87999749183655 %\n"
     ]
    }
   ],
   "source": [
    "print('Test Accuracy:', test_accu*100, \"%\")"
   ]
  },
  {
   "cell_type": "code",
   "execution_count": 17,
   "id": "bfba78cb-3ce8-4df0-a2c2-553dcb30e6d0",
   "metadata": {},
   "outputs": [
    {
     "name": "stdout",
     "output_type": "stream",
     "text": [
      "313/313 [==============================] - 0s 1ms/step\n"
     ]
    }
   ],
   "source": [
    "predictions = model.predict(test_images)"
   ]
  },
  {
   "cell_type": "code",
   "execution_count": 18,
   "id": "11dba422-75f8-4a0f-a9d9-c53a22634f08",
   "metadata": {},
   "outputs": [
    {
     "data": {
      "text/plain": [
       "array([1.1432194e-07, 2.2401780e-10, 9.1008985e-07, 2.3731683e-10,\n",
       "       9.8641624e-07, 3.6628408e-04, 2.2670527e-07, 9.7498558e-03,\n",
       "       8.3546929e-08, 9.8988146e-01], dtype=float32)"
      ]
     },
     "execution_count": 18,
     "metadata": {},
     "output_type": "execute_result"
    }
   ],
   "source": [
    "predictions[0]"
   ]
  },
  {
   "cell_type": "code",
   "execution_count": 19,
   "id": "8e8c04e7-a509-4e96-8836-ccb69409caf3",
   "metadata": {},
   "outputs": [
    {
     "data": {
      "text/plain": [
       "9"
      ]
     },
     "execution_count": 19,
     "metadata": {},
     "output_type": "execute_result"
    }
   ],
   "source": [
    "b = np.argmax(predictions[0])\n",
    "b"
   ]
  },
  {
   "cell_type": "code",
   "execution_count": 20,
   "id": "a861006e-81f4-47cf-acc6-f18e9ea1c96a",
   "metadata": {},
   "outputs": [
    {
     "name": "stdout",
     "output_type": "stream",
     "text": [
      "Ankle boot\n"
     ]
    }
   ],
   "source": [
    "print(class_names[b])"
   ]
  },
  {
   "cell_type": "code",
   "execution_count": 21,
   "id": "4e650740-84e7-4bd8-b918-a5e23ecb4023",
   "metadata": {},
   "outputs": [
    {
     "data": {
      "image/png": "[encoded data removed]",
      "text/plain": [
       "<Figure size 640x480 with 2 Axes>"
      ]
     },
     "metadata": {},
     "output_type": "display_data"
    }
   ],
   "source": [
    "plt.figure()\n",
    "plt.imshow(test_images[b])\n",
    "plt.colorbar()\n",
    "plt.grid(False)\n",
    "plt.show()"
   ]
  },
  {
   "cell_type": "code",
   "execution_count": 22,
   "id": "09bcc959-381c-45f9-beec-3ce73bad3159",
   "metadata": {},
   "outputs": [],
   "source": [
    "COLOR = 'white'\n",
    "plt.rcParams['text.color'] = COLOR\n",
    "plt.rcParams['axes.labelcolor'] = COLOR\n"
   ]
  },
  {
   "cell_type": "code",
   "execution_count": 24,
   "id": "9e4dd332-efba-4584-a19a-0f0db7968404",
   "metadata": {
    "jupyter": {
     "source_hidden": true
    },
    "tags": []
   },
   "outputs": [
    {
     "name": "stdin",
     "output_type": "stream",
     "text": [
      "Pick a number:  6\n"
     ]
    },
    {
     "name": "stdout",
     "output_type": "stream",
     "text": [
      "1/1 [==============================] - 0s 22ms/step\n"
     ]
    },
    {
     "data": {
      "image/png": "[encoded data removed]",
      "text/plain": [
       "<Figure size 640x480 with 2 Axes>"
      ]
     },
     "metadata": {},
     "output_type": "display_data"
    }
   ],
   "source": [
    "def predict(model, image, correct_label):\n",
    "  class_names = ['T-shirt/top', 'Trouser', 'Pullover', 'Dress', 'Coat',\n",
    "               'Sandal', 'Shirt', 'Sneaker', 'Bag', 'Ankle boot']\n",
    "  prediction = model.predict(np.array([image]))\n",
    "  predicted_class = class_names[np.argmax(prediction)]\n",
    "\n",
    "  show_image(image, class_names[correct_label], predicted_class)\n",
    "\n",
    "def show_image(img, label, guess):\n",
    "  plt.figure()\n",
    "  plt.imshow(img, cmap=plt.cm.binary)\n",
    "  plt.title(\"Excpected: \" + label)\n",
    "  plt.xlabel(\"Guess: \" + guess)\n",
    "  plt.colorbar()\n",
    "  plt.grid(False)\n",
    "  plt.show()\n",
    "\n",
    "def get_number():\n",
    "  while True:\n",
    "    num = input(\"Pick a number: \")\n",
    "    if num.isdigit():\n",
    "      num = int(num)\n",
    "      if 0 <= num <= 1000:\n",
    "        return int(num)\n",
    "    else:\n",
    "      print(\"Try again...\")\n",
    "\n",
    "num = get_number()\n",
    "image = test_images[num]\n",
    "label = test_labels[num]\n",
    "predict(model, image, label)"
   ]
  },
  {
   "cell_type": "code",
   "execution_count": 27,
   "id": "853f6739-4c83-40dd-bf27-aaef65b49375",
   "metadata": {},
   "outputs": [],
   "source": [
    "for layer in model.layers:#Freeze the weights\n",
    "    layer.trainable = False"
   ]
  },
  {
   "cell_type": "code",
   "execution_count": 28,
   "id": "3a4369c9-fdd0-47e6-afd1-eefc3b64d380",
   "metadata": {},
   "outputs": [
    {
     "name": "stdout",
     "output_type": "stream",
     "text": [
      "Model: \"sequential\"\n",
      "_________________________________________________________________\n",
      " Layer (type)                Output Shape              Param #   \n",
      "=================================================================\n",
      " flatten (Flatten)           (None, 784)               0         \n",
      "                                                                 \n",
      " dense (Dense)               (None, 128)               100480    \n",
      "                                                                 \n",
      " dense_1 (Dense)             (None, 10)                1290      \n",
      "                                                                 \n",
      "=================================================================\n",
      "Total params: 101,770\n",
      "Trainable params: 0\n",
      "Non-trainable params: 101,770\n",
      "_________________________________________________________________\n"
     ]
    }
   ],
   "source": [
    "model.summary()"
   ]
  },
  {
   "cell_type": "code",
   "execution_count": 29,
   "id": "05908d22-bbb7-4030-a542-be088ed2396d",
   "metadata": {},
   "outputs": [
    {
     "name": "stdout",
     "output_type": "stream",
     "text": [
      "INFO:tensorflow:Assets written to: mnist_classifier/assets\n"
     ]
    }
   ],
   "source": [
    "model.save('mnist_classifier/')"
   ]
  },
  {
   "cell_type": "markdown",
   "id": "9dfcba39-bd4a-4a5a-ba24-de34ca930f3b",
   "metadata": {},
   "source": [
    "**AUTO ML- to find the best model and find best hyperparameters**"
   ]
  },
  {
   "cell_type": "code",
   "execution_count": 37,
   "id": "6c327b20-9291-4630-9f78-749d889f1e37",
   "metadata": {},
   "outputs": [],
   "source": [
    "import autokeras as ak"
   ]
  },
  {
   "cell_type": "code",
   "execution_count": 40,
   "id": "3ba3d32e-f402-4968-bd1a-aeef072b517b",
   "metadata": {},
   "outputs": [],
   "source": [
    "clf = ak.ImageClassifier(overwrite = True, max_trials = 1)"
   ]
  },
  {
   "cell_type": "code",
   "execution_count": 41,
   "id": "d510a39d-7b93-4a35-a9c4-1b7696f2b2ae",
   "metadata": {},
   "outputs": [
    {
     "name": "stdout",
     "output_type": "stream",
     "text": [
      "Trial 1 Complete [00h 10m 26s]\n",
      "val_loss: 0.2244262844324112\n",
      "\n",
      "Best val_loss So Far: 0.2244262844324112\n",
      "Total elapsed time: 00h 10m 26s\n",
      "INFO:tensorflow:Oracle triggered exit\n",
      "Epoch 1/10\n",
      "1875/1875 [==============================] - 73s 39ms/step - loss: 0.4308 - accuracy: 0.8456\n",
      "Epoch 2/10\n",
      "1875/1875 [==============================] - 69s 37ms/step - loss: 0.3168 - accuracy: 0.8872\n",
      "Epoch 3/10\n",
      "1875/1875 [==============================] - 69s 37ms/step - loss: 0.2788 - accuracy: 0.8991\n",
      "Epoch 4/10\n",
      "1875/1875 [==============================] - 67s 36ms/step - loss: 0.2584 - accuracy: 0.9066\n",
      "Epoch 5/10\n",
      "1875/1875 [==============================] - 73s 39ms/step - loss: 0.2427 - accuracy: 0.9102\n",
      "Epoch 6/10\n",
      "1875/1875 [==============================] - 89s 47ms/step - loss: 0.2330 - accuracy: 0.9152\n",
      "Epoch 7/10\n",
      "1875/1875 [==============================] - 85s 45ms/step - loss: 0.2238 - accuracy: 0.9195\n",
      "Epoch 8/10\n",
      "1875/1875 [==============================] - 93s 49ms/step - loss: 0.2168 - accuracy: 0.9211\n",
      "Epoch 9/10\n",
      "1875/1875 [==============================] - 79s 42ms/step - loss: 0.2093 - accuracy: 0.9233\n",
      "Epoch 10/10\n",
      "1875/1875 [==============================] - 66s 35ms/step - loss: 0.2022 - accuracy: 0.9252\n"
     ]
    },
    {
     "name": "stderr",
     "output_type": "stream",
     "text": [
      "WARNING:absl:Found untraced functions such as _jit_compiled_convolution_op, _jit_compiled_convolution_op while saving (showing 2 of 2). These functions will not be directly callable after loading.\n"
     ]
    },
    {
     "name": "stdout",
     "output_type": "stream",
     "text": [
      "INFO:tensorflow:Assets written to: ./image_classifier/best_model/assets\n"
     ]
    },
    {
     "name": "stderr",
     "output_type": "stream",
     "text": [
      "INFO:tensorflow:Assets written to: ./image_classifier/best_model/assets\n"
     ]
    }
   ],
   "source": [
    "auto = clf.fit(train_images, train_labels, epochs = 10)"
   ]
  },
  {
   "cell_type": "code",
   "execution_count": 43,
   "id": "baae020d-9438-4d27-a952-3a7ab78ccd19",
   "metadata": {},
   "outputs": [
    {
     "name": "stdout",
     "output_type": "stream",
     "text": [
      "Model: \"model\"\n",
      "_________________________________________________________________\n",
      " Layer (type)                Output Shape              Param #   \n",
      "=================================================================\n",
      " input_1 (InputLayer)        [(None, 28, 28)]          0         \n",
      "                                                                 \n",
      " cast_to_float32 (CastToFloa  (None, 28, 28)           0         \n",
      " t32)                                                            \n",
      "                                                                 \n",
      " expand_last_dim (ExpandLast  (None, 28, 28, 1)        0         \n",
      " Dim)                                                            \n",
      "                                                                 \n",
      " normalization (Normalizatio  (None, 28, 28, 1)        3         \n",
      " n)                                                              \n",
      "                                                                 \n",
      " conv2d (Conv2D)             (None, 26, 26, 32)        320       \n",
      "                                                                 \n",
      " conv2d_1 (Conv2D)           (None, 24, 24, 64)        18496     \n",
      "                                                                 \n",
      " max_pooling2d (MaxPooling2D  (None, 12, 12, 64)       0         \n",
      " )                                                               \n",
      "                                                                 \n",
      " dropout (Dropout)           (None, 12, 12, 64)        0         \n",
      "                                                                 \n",
      " flatten (Flatten)           (None, 9216)              0         \n",
      "                                                                 \n",
      " dropout_1 (Dropout)         (None, 9216)              0         \n",
      "                                                                 \n",
      " dense (Dense)               (None, 10)                92170     \n",
      "                                                                 \n",
      " classification_head_1 (Soft  (None, 10)               0         \n",
      " max)                                                            \n",
      "                                                                 \n",
      "=================================================================\n",
      "Total params: 110,989\n",
      "Trainable params: 110,986\n",
      "Non-trainable params: 3\n",
      "_________________________________________________________________\n"
     ]
    }
   ],
   "source": [
    "model_auto = clf.export_model()\n",
    "model_auto.summary()"
   ]
  }
 ],
 "metadata": {
  "kernelspec": {
   "display_name": "Python 3 (ipykernel)",
   "language": "python",
   "name": "python3"
  },
  "language_info": {
   "codemirror_mode": {
    "name": "ipython",
    "version": 3
   },
   "file_extension": ".py",
   "mimetype": "text/x-python",
   "name": "python",
   "nbconvert_exporter": "python",
   "pygments_lexer": "ipython3",
   "version": "3.9.13"
  }
 },
 "nbformat": 4,
 "nbformat_minor": 5
}
